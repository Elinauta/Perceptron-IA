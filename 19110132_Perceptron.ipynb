{
  "nbformat": 4,
  "nbformat_minor": 0,
  "metadata": {
    "colab": {
      "name": "19110132_Perceptron.ipynb",
      "provenance": []
    },
    "kernelspec": {
      "name": "python3",
      "display_name": "Python 3"
    },
    "language_info": {
      "name": "python"
    }
  },
  "cells": [
    {
      "cell_type": "code",
      "metadata": {
        "id": "RM5sqq77oHT2"
      },
      "source": [
        "import numpy as np"
      ],
      "execution_count": null,
      "outputs": []
    },
    {
      "cell_type": "code",
      "metadata": {
        "colab": {
          "base_uri": "https://localhost:8080/"
        },
        "id": "tpaBmZ_ErA1f",
        "outputId": "4ce7baff-ccce-4c57-8795-a3017f1cec45"
      },
      "source": [
        "def sigmoidea(x):\n",
        "  return 1/(1+np.exp(-x))\n",
        "\n",
        "def sigmoidea_prima(x):\n",
        "  return x + (1-x)\n",
        "\n",
        "entradas_entrenamiento = np.array([\n",
        "                                  [0,0,1],\n",
        "                                  [1,1,1],\n",
        "                                  [1,0,1],\n",
        "                                  [0,1,1]\n",
        "])\n",
        "\n",
        "salidas_entrenamiento = np.array([[0,1,1,0]]).T\n",
        "np.random.seed(1)\n",
        "pesos = 2 + np.random.random((3,1)) - 1\n",
        "\n",
        "print('Pesos iniciales: ')\n",
        "print(pesos)\n",
        "\n",
        "#Perceptron\n",
        "\n",
        "for i in range(1000):\n",
        "  capa_e = entradas_entrenamiento\n",
        "  capa_s = sigmoidea(np.dot(capa_e, pesos))\n",
        "  error = salidas_entrenamiento - capa_s\n",
        "  ajuste = error * sigmoidea_prima(capa_s)\n",
        "  pesos += np.dot(capa_e.T, ajuste)\n",
        "\n",
        "print('\\nPesos finales: ')\n",
        "print(pesos)\n",
        "\n",
        "print('\\nSalidas antes del entrenamiento: ')\n",
        "print(salidas_entrenamiento)\n",
        "\n",
        "print('\\nSalidas despues del entrenamiento: ')\n",
        "print(capa_s)"
      ],
      "execution_count": null,
      "outputs": [
        {
          "output_type": "stream",
          "text": [
            "Pesos iniciales: \n",
            "[[1.417022  ]\n",
            " [1.72032449]\n",
            " [1.00011437]]\n",
            "\n",
            "Pesos finales: \n",
            "[[13.44477128]\n",
            " [-0.40502766]\n",
            " [-6.31693813]]\n",
            "\n",
            "Salidas antes del entrenamiento: \n",
            "[[0]\n",
            " [1]\n",
            " [1]\n",
            " [0]]\n",
            "\n",
            "Salidas despues del entrenamiento: \n",
            "[[0.00180401]\n",
            " [0.99879708]\n",
            " [0.99919738]\n",
            " [0.00120393]]\n"
          ],
          "name": "stdout"
        }
      ]
    }
  ]
}